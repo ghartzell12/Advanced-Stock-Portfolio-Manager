{
 "cells": [
  {
   "cell_type": "code",
   "execution_count": 3,
   "metadata": {},
   "outputs": [],
   "source": [
    "# Importing Openpyxl\n",
    "from openpyxl import Workbook"
   ]
  },
  {
   "cell_type": "code",
   "execution_count": 4,
   "metadata": {},
   "outputs": [],
   "source": [
    "# Creating Template Sheet\n",
    "template = Workbook()\n",
    "sheet = template.active"
   ]
  },
  {
   "cell_type": "code",
   "execution_count": null,
   "metadata": {},
   "outputs": [],
   "source": [
    "# Filling in sheet\n",
    "sheet['K2'] = float(input('Enter Starting Capital'))\n",
    "sheet['A1'] = 'Ticker'\n",
    "sheet['B1'] = 'Date Bought'\n",
    "sheet['C1'] = 'Quantity Purchased'\n",
    "sheet[\"D1\"] = 'Fulfillment Price'\n",
    "sheet['E1'] = 'Sell Date'\n",
    "sheet['F1'] = 'Quantity Sold'\n",
    "sheet['G1'] = 'Fulfillment Price'\n",
    "sheet['H1'] = 'Quantity Remaining'\n",
    "sheet[\"I1\"] = 'P/L Percentage'\n",
    "sheet['J1'] = 'P/L Amount'\n",
    "sheet['K1'] = 'Capital'\n",
    "sheet['A2'] = 'Starting Balance'"
   ]
  },
  {
   "cell_type": "code",
   "execution_count": 2,
   "metadata": {},
   "outputs": [
    {
     "ename": "NameError",
     "evalue": "name 'template' is not defined",
     "output_type": "error",
     "traceback": [
      "\u001b[0;31m---------------------------------------------------------------------------\u001b[0m",
      "\u001b[0;31mNameError\u001b[0m                                 Traceback (most recent call last)",
      "\u001b[0;32m<ipython-input-2-0e7712a74873>\u001b[0m in \u001b[0;36m<module>\u001b[0;34m\u001b[0m\n\u001b[1;32m      1\u001b[0m \u001b[0;31m# Saving Sheet under correct file name\u001b[0m\u001b[0;34m\u001b[0m\u001b[0;34m\u001b[0m\u001b[0;34m\u001b[0m\u001b[0m\n\u001b[0;32m----> 2\u001b[0;31m \u001b[0mtemplate\u001b[0m\u001b[0;34m.\u001b[0m\u001b[0msave\u001b[0m\u001b[0;34m(\u001b[0m\u001b[0;34m'Finance.xlsx'\u001b[0m\u001b[0;34m)\u001b[0m\u001b[0;34m\u001b[0m\u001b[0;34m\u001b[0m\u001b[0m\n\u001b[0m\u001b[1;32m      3\u001b[0m \u001b[0mprint\u001b[0m\u001b[0;34m(\u001b[0m\u001b[0;34m'Saved! You can now use the tracker!'\u001b[0m\u001b[0;34m)\u001b[0m\u001b[0;34m\u001b[0m\u001b[0;34m\u001b[0m\u001b[0m\n",
      "\u001b[0;31mNameError\u001b[0m: name 'template' is not defined"
     ]
    }
   ],
   "source": [
    "# Saving Sheet under correct file name\n",
    "template.save('Finance.xlsx')\n",
    "print('Saved! You can now use the tracker!')"
   ]
  },
  {
   "cell_type": "code",
   "execution_count": null,
   "metadata": {},
   "outputs": [],
   "source": []
  }
 ],
 "metadata": {
  "kernelspec": {
   "display_name": "Python 3",
   "language": "python",
   "name": "python3"
  },
  "language_info": {
   "codemirror_mode": {
    "name": "ipython",
    "version": 3
   },
   "file_extension": ".py",
   "mimetype": "text/x-python",
   "name": "python",
   "nbconvert_exporter": "python",
   "pygments_lexer": "ipython3",
   "version": "3.7.3"
  }
 },
 "nbformat": 4,
 "nbformat_minor": 4
}
